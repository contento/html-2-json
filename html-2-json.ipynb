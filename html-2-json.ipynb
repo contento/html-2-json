{
 "cells": [
  {
   "cell_type": "markdown",
   "metadata": {},
   "source": [
    "# html-2-json.ipynb"
   ]
  },
  {
   "cell_type": "markdown",
   "metadata": {},
   "source": [
    "## Introduction\n",
    "\n",
    "- HTML to JSON: extract custom tags from HTML and save them as **JSON template** **[INTERMEDIATE STEP]**\n",
    "- **[ACTUAL REQUIREMENT]** Generate a JSON **[Payload]** file from a JSON template and a JSON data file   \n",
    "- JSON to HTML: render variables based on a HTML template and a JSON payload **[DISPLAY/TEST PURPOSES]**"
   ]
  },
  {
   "cell_type": "markdown",
   "metadata": {},
   "source": [
    "## Installation \n",
    "\n",
    "See [README.md](README.md) for installation instructions."
   ]
  },
  {
   "cell_type": "code",
   "execution_count": 13,
   "metadata": {},
   "outputs": [
    {
     "name": "stdout",
     "output_type": "stream",
     "text": [
      "Requirement already satisfied: beautifulsoup4 in ... (4.12.2)\n",
      "Requirement already satisfied: soupsieve>1.2 in ... (from beautifulsoup4) (2.5)\n",
      "\n"
     ]
    }
   ],
   "source": [
    "#!pip install beautifulsoup4 \n",
    "\n",
    "import subprocess\n",
    "import re\n",
    "\n",
    "# Capture the output of the pip install command\n",
    "result = subprocess.run(['pip', 'install', 'beautifulsoup4'], capture_output=True, text=True)\n",
    "\n",
    "# Use regex to replace local path patterns\n",
    "# This will replace paths like \"C:\\Users\\...\" or \"/Users/...\" with \"...\"\n",
    "cleaned_output = re.sub(r'([A-Za-z]:\\\\[^ \\n]+)|(/[^ \\n]+)', '...', result.stdout)\n",
    "\n",
    "print(cleaned_output)"
   ]
  },
  {
   "cell_type": "markdown",
   "metadata": {},
   "source": [
    "## Common Definitions"
   ]
  },
  {
   "cell_type": "code",
   "execution_count": 2,
   "metadata": {},
   "outputs": [],
   "source": [
    "import json\n",
    "from bs4 import BeautifulSoup\n",
    "import re\n",
    "\n",
    "# Define constants\n",
    "EMAIL_TAG = \"email-tag\"\n",
    "OUTPUT_PATH=\"output\"\n",
    "\n",
    "HTML_TEMPLATE_INPUT_FILE_PATH = \"email-template-input.html\"\n",
    "HTML_TEMPLATE_OUTPUT_FILE_PATH = \"email-template-output.html\"\n",
    "\n",
    "JSON_TEMPLATE_INPUT_FILE_PATH = f\"{OUTPUT_PATH}/email-template-input.json\"  \n",
    "JSON_INPUT_FILE_PATH = \"email-data-input.json\"\n",
    "JSON_OUTPUT_FILE_PATH = f\"{OUTPUT_PATH}/email-data-output.json\"\n",
    "\n",
    "VAR_OPEN_CHAR = \"{\"\n",
    "VAR_CLOSE_CHAR = \"}\"\n",
    "VAR_OPEN_SEQUENCE = f\"\\{VAR_OPEN_CHAR}\\{VAR_OPEN_CHAR}\"\n",
    "VAR_CLOSE_SEQUENCE = f\"\\{VAR_CLOSE_CHAR}\\{VAR_CLOSE_CHAR}\"\n",
    "TEMPLATE_VAR_PATTERN = rf\"{VAR_OPEN_SEQUENCE}(.*?){VAR_CLOSE_SEQUENCE}\""
   ]
  },
  {
   "cell_type": "markdown",
   "metadata": {},
   "source": [
    "## Convert HTML Template to JSON Template [OPTIONAL]"
   ]
  },
  {
   "cell_type": "code",
   "execution_count": 3,
   "metadata": {},
   "outputs": [
    {
     "name": "stdout",
     "output_type": "stream",
     "text": [
      "{\n",
      "    \"email\": {\n",
      "        \"email_subject\": \"<b>Meeting Tomorrow</b>\",\n",
      "        \"email_logo\": \"<img alt=\\\"Logo\\\" src=\\\"../images/{{email_logo}}\\\" style=\\\"width: 20%;\\\"/>\",\n",
      "        \"email_from\": \"{{email_from}}\",\n",
      "        \"email_to\": \"{{email_to}}\",\n",
      "        \"email_cc\": \"{{email_cc}}\",\n",
      "        \"email_bcc\": \"{{email_bcc}}\",\n",
      "        \"email_body\": \"Let's meet tomorrow at 10am.<br/>\\n<i style=\\\"font-size: 14pt; color: blue;\\\">\\n            Please read the report {{email_report_name}}.</i><br/>\\n        and remember:\\n        <ul>\\n<li>Drink H<sub>2</sub>O</li>\\n<li>2<sup>8</sup> = 256</li>\\n</ul>\"\n",
      "    }\n",
      "}\n"
     ]
    }
   ],
   "source": [
    "def extract_nested_tags(tag):\n",
    "    children = {}\n",
    "    for child in tag.find_all(attrs={EMAIL_TAG: True}, recursive=False):\n",
    "        child_tag = child.get(EMAIL_TAG)\n",
    "        children[child_tag] = extract_nested_tags(child)\n",
    "\n",
    "    if children:\n",
    "        return children\n",
    "    else:\n",
    "        return str(tag.encode_contents().decode(\"utf-8\")).strip()\n",
    "\n",
    "\n",
    "def extract_email_tags_to_json(file_path):\n",
    "    with open(file_path, \"r\", encoding=\"utf-8\") as f:\n",
    "        html_content = f.read()\n",
    "\n",
    "    soup = BeautifulSoup(html_content, \"html.parser\")\n",
    "    root_tag = soup.find(attrs={EMAIL_TAG: \"email\"})\n",
    "    if root_tag:\n",
    "        result = {root_tag.get(EMAIL_TAG): extract_nested_tags(root_tag)}\n",
    "        return json.dumps(result, indent=4)\n",
    "    else:\n",
    "        return json.dumps({}, indent=4)\n",
    "\n",
    "\n",
    "def save_json_to_file(json_output, file_path):\n",
    "    with open(file_path, \"w\", encoding=\"utf-8\") as json_file:\n",
    "        json_file.write(json_output)\n",
    "\n",
    "json_output = extract_email_tags_to_json(HTML_TEMPLATE_INPUT_FILE_PATH)\n",
    "save_json_to_file(json_output, JSON_TEMPLATE_INPUT_FILE_PATH)\n",
    "print(json_output)\n"
   ]
  },
  {
   "cell_type": "markdown",
   "metadata": {},
   "source": [
    "## Extract Variables from JSON Template [OPTIONAL]"
   ]
  },
  {
   "cell_type": "code",
   "execution_count": 4,
   "metadata": {},
   "outputs": [
    {
     "name": "stdout",
     "output_type": "stream",
     "text": [
      "Variables found:\n",
      "{{email_report_name}} => email_report_name\n",
      "{{email_from}} => email_from\n",
      "{{email_cc}} => email_cc\n",
      "{{email_to}} => email_to\n",
      "{{email_logo}} => email_logo\n",
      "{{email_bcc}} => email_bcc\n"
     ]
    }
   ],
   "source": [
    "\n",
    "def find_variables(json_data):\n",
    "    variables = set()\n",
    "    for key, value in json_data.items():\n",
    "        if isinstance(value, dict):\n",
    "            variables.update(find_variables(value))\n",
    "        elif isinstance(value, str):\n",
    "            matches = re.findall(TEMPLATE_VAR_PATTERN, value)\n",
    "            variables.update(matches)\n",
    "    return variables\n",
    "\n",
    "\n",
    "def print_variables(variables):\n",
    "    print(\"Variables found:\")\n",
    "    for var in variables:\n",
    "        print(f\"{VAR_OPEN_CHAR}{VAR_OPEN_CHAR}{var}{VAR_CLOSE_CHAR}{VAR_CLOSE_CHAR} => {var}\")\n",
    "\n",
    "with open(JSON_TEMPLATE_INPUT_FILE_PATH, \"r\", encoding=\"utf-8\") as f:\n",
    "    json_data = json.load(f)\n",
    "\n",
    "variables = find_variables(json_data)\n",
    "print_variables(variables)"
   ]
  },
  {
   "cell_type": "markdown",
   "metadata": {},
   "source": [
    "## JSON Merge"
   ]
  },
  {
   "cell_type": "code",
   "execution_count": 5,
   "metadata": {},
   "outputs": [
    {
     "name": "stdout",
     "output_type": "stream",
     "text": [
      "{\n",
      "    \"email_001\": {\n",
      "        \"email_subject\": \"<b>Meeting Tomorrow</b>\",\n",
      "        \"email_logo\": \"<img alt=\\\"Logo\\\" src=\\\"../images/email-logo-01.png\\\" style=\\\"width: 20%;\\\"/>\",\n",
      "        \"email_from\": \"joe.001@example.com\",\n",
      "        \"email_to\": \"tom.001@example.com\",\n",
      "        \"email_cc\": \"charlie.001@example.com\",\n",
      "        \"email_bcc\": \"ben.001@example.com\",\n",
      "        \"email_body\": \"Let's meet tomorrow at 10am.<br/>\\n<i style=\\\"font-size: 14pt; color: blue;\\\">\\n            Please read the report report-2023-06-08.xlsx.</i><br/>\\n        and remember:\\n        <ul>\\n<li>Drink H<sub>2</sub>O</li>\\n<li>2<sup>8</sup> = 256</li>\\n</ul>\"\n",
      "    },\n",
      "    \"email_002\": {\n",
      "        \"email_subject\": \"<b>Meeting Tomorrow</b>\",\n",
      "        \"email_logo\": \"<img alt=\\\"Logo\\\" src=\\\"../images/email-logo-02.png\\\" style=\\\"width: 20%;\\\"/>\",\n",
      "        \"email_from\": \"joe.002@example.com\",\n",
      "        \"email_to\": \"tom.002@example.com\",\n",
      "        \"email_cc\": \"charlie.002@example.com\",\n",
      "        \"email_bcc\": \"ben.002@example.com\",\n",
      "        \"email_body\": \"Let's meet tomorrow at 10am.<br/>\\n<i style=\\\"font-size: 14pt; color: blue;\\\">\\n            Please read the report report-2023-07-20.xlsx.</i><br/>\\n        and remember:\\n        <ul>\\n<li>Drink H<sub>2</sub>O</li>\\n<li>2<sup>8</sup> = 256</li>\\n</ul>\"\n",
      "    }\n",
      "}\n"
     ]
    }
   ],
   "source": [
    "def read_json_file(file_path):\n",
    "    with open(file_path, \"r\", encoding=\"utf-8\") as f:\n",
    "        return json.load(f)\n",
    "\n",
    "\n",
    "def replace_variables(template, values):\n",
    "    if isinstance(template, dict):\n",
    "        return {\n",
    "            key: replace_variables(value, values) for key, value in template.items()\n",
    "        }\n",
    "    elif isinstance(template, str):\n",
    "        return re.sub(\n",
    "            TEMPLATE_VAR_PATTERN, lambda m: values.get(m.group(1), m.group(0)), template\n",
    "        )\n",
    "    else:\n",
    "        return template\n",
    "\n",
    "\n",
    "def merge_json_emails(template_json, values_json):\n",
    "    final_json = {}\n",
    "    for email_key, email_values in values_json.items():\n",
    "        final_json[email_key] = replace_variables(template_json[\"email\"], email_values)\n",
    "    return final_json\n",
    "\n",
    "\n",
    "# Main code\n",
    "json_template = read_json_file(JSON_TEMPLATE_INPUT_FILE_PATH)\n",
    "data_input_json = read_json_file(JSON_INPUT_FILE_PATH)\n",
    "\n",
    "merged_json = merge_json_emails(json_template, data_input_json)\n",
    "\n",
    "print(json.dumps(merged_json, indent=4))\n",
    "\n",
    "save_json_to_file(json.dumps(merged_json, indent=4), JSON_OUTPUT_FILE_PATH)"
   ]
  },
  {
   "cell_type": "markdown",
   "metadata": {},
   "source": [
    "## Generate HTML files based on Output HTML Template and JSON Data"
   ]
  },
  {
   "cell_type": "code",
   "execution_count": 6,
   "metadata": {},
   "outputs": [],
   "source": [
    "def read_file(file_path):\n",
    "    with open(file_path, 'r', encoding='utf-8') as f:\n",
    "        return f.read()\n",
    "\n",
    "def write_to_file(file_path, content):\n",
    "    with open(file_path, 'w', encoding='utf-8') as f:\n",
    "        f.write(content)\n",
    "\n",
    "def read_json_file(file_path):\n",
    "    with open(file_path, 'r', encoding='utf-8') as f:\n",
    "        return json.load(f)\n",
    "\n",
    "def replace_variables_in_html(html_template, variables):\n",
    "    for var, value in variables.items():\n",
    "        html_template = html_template.replace(f\"{VAR_OPEN_CHAR}{VAR_OPEN_CHAR}{var}{VAR_CLOSE_CHAR}{VAR_CLOSE_CHAR}\", value)\n",
    "    return html_template\n",
    "\n",
    "def generate_html_files_from_json(html_template, json_data):\n",
    "    for email_key, email_values in json_data.items():\n",
    "        html_content = replace_variables_in_html(html_template, email_values)\n",
    "        output_file_name = f\"{OUTPUT_PATH}/{email_key}.html\"\n",
    "        write_to_file(output_file_name, html_content)\n",
    "\n",
    "html_template = read_file(HTML_TEMPLATE_OUTPUT_FILE_PATH)\n",
    "json_data = read_json_file(JSON_OUTPUT_FILE_PATH)\n",
    "\n",
    "generate_html_files_from_json(html_template, json_data)"
   ]
  }
 ],
 "metadata": {
  "kernelspec": {
   "display_name": ".venv",
   "language": "python",
   "name": "python3"
  },
  "language_info": {
   "codemirror_mode": {
    "name": "ipython",
    "version": 3
   },
   "file_extension": ".py",
   "mimetype": "text/x-python",
   "name": "python",
   "nbconvert_exporter": "python",
   "pygments_lexer": "ipython3",
   "version": "3.11.6"
  }
 },
 "nbformat": 4,
 "nbformat_minor": 2
}
